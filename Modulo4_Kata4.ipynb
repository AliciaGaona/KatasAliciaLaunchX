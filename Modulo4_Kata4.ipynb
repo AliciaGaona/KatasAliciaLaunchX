{
 "cells": [
  {
   "cell_type": "markdown",
   "metadata": {},
   "source": [
    "Ejercicio 1: Transformar cadenas"
   ]
  },
  {
   "cell_type": "code",
   "execution_count": 30,
   "metadata": {},
   "outputs": [
    {
     "name": "stdout",
     "output_type": "stream",
     "text": [
      "-------Ejercicio para busqueda-------\n",
      "172\n",
      "334\n",
      "-1\n",
      "True\n",
      "True\n",
      "False\n",
      "-----------Ejercicio con for para imprimir solo datos de las palabras y remplazar---------\n",
      " \n",
      "        On average, the Moon moves 4cm away from the Earth every year\n",
      " The highest daylight temperature of the Moon is 127 Celsius\n"
     ]
    }
   ],
   "source": [
    "#Dividir una cadena\n",
    "text = \"\"\"Interesting facts about the Moon. The Moon is Earth's only satellite. There are several interesting facts about the Moon and how it affects life here on Earth. \n",
    "        On average, the Moon moves 4cm away from the Earth every year. This yearly drift is not significant enough to cause immediate effects on Earth. The highest daylight temperature of the Moon is 127 C.\"\"\"\n",
    "#print(text.split(\".\"))\n",
    "#Buscar una cadena\n",
    "print(\"-------Ejercicio para busqueda-------\")\n",
    "print(text.find('average'))\n",
    "print(text.find('temperature'))\n",
    "print(text.find('distance'))\n",
    "print('average' in text)\n",
    "print('temperature' in text)\n",
    "print('distance' in text)\n",
    "#Cre un bucle para imprimir solo datos sobre la Luna que estén relacionados con las palabras clave definidas anteriormente:\n",
    "#con ciclo for para recorrer la cadena\n",
    "print(\"-----------Ejercicio con for para imprimir solo datos de las palabras y remplazar---------\")\n",
    "for item in text.split(\".\"):\n",
    "    if 'average' in item:\n",
    "        print(item.replace('C', 'Celsius'))\n",
    "    elif 'temperature' in item:\n",
    "        print(item.replace('C', 'Celsius'))\n",
    "    elif 'distance' in item:\n",
    "        print(item.replace('C', 'Celsius'))\n",
    "\n",
    "\n",
    "\n",
    "\n",
    "\n"
   ]
  },
  {
   "cell_type": "markdown",
   "metadata": {},
   "source": [
    "Ejercicio 2: Formateando Cadenas"
   ]
  },
  {
   "cell_type": "code",
   "execution_count": 61,
   "metadata": {},
   "outputs": [
    {
     "name": "stdout",
     "output_type": "stream",
     "text": [
      "*****Datos De Gravedad Sobre Tierra******\n",
      "Nombre del planeta: Tierra \n",
      "Gravedad en Luna: 1.6199999999999999 m/s2 \n",
      "\n",
      "Ingresa nuevo planeta\n",
      "Ingresa nuevo gravedad\n",
      "Ingresa nuevo nombre\n",
      "\n",
      "*****Datos de gravedad sobre Marte******\n",
      "Nombre del planeta: Marte \n",
      "Gravedad en Jualino: 0.4445555 m/s2 \n",
      "\n"
     ]
    }
   ],
   "source": [
    "# Datos con los que vas a trabajar\n",
    "nombre = \"Luna\"\n",
    "gravedad = 0.00162 # in kms\n",
    "planeta = \"Tierra\"\n",
    "# Creamos el título\n",
    "title = f'*****Datos de gravedad sobre {planeta}******'\n",
    "#Plantilla\n",
    "hechos = f\"\"\"\n",
    "Nombre del planeta: {planeta} \n",
    "Gravedad en {nombre}: {gravedad * 1000} m/s2 \n",
    "\"\"\"\n",
    "# Unión de ambas cadenas\n",
    "union=title.title() + hechos\n",
    "print(union)\n",
    "\n",
    "# Nuevos datos muestra\n",
    "#planeta = 'Marte '\n",
    "#gravedad  = 0.00143\n",
    "#nombre = 'Ganímedes'\n",
    "#print(union)\n",
    "\n",
    "#-----------FINAL DE EJERCICIO---------------\n",
    "print(\"Ingresa nuevo planeta\")\n",
    "planeta = input()\n",
    "print(\"Ingresa nuevo gravedad\")\n",
    "gravedad= input()\n",
    "print(\"Ingresa nuevo nombre\")\n",
    "nombre= input()\n",
    "# Nueva plantilla con format\n",
    "hechos_nuevo = f\"\"\"\n",
    "*****Datos de gravedad sobre {planeta}******\n",
    "Nombre del planeta: {planeta} \n",
    "Gravedad en {nombre}: {gravedad} m/s2 \n",
    "\"\"\"\n",
    "#print(hechos_nuevo.format(planeta=planeta, gravedad=gravedad,nombre=nombre))\n",
    "print(hechos_nuevo.format(planeta=planeta, gravedad=gravedad*1000,nombre=nombre))\n"
   ]
  }
 ],
 "metadata": {
  "interpreter": {
   "hash": "22626d351ea06a19e9d47a22d2b9e6ae41889ab57a49385ad0921d17b4cbec0e"
  },
  "kernelspec": {
   "display_name": "Python 3.10.2 64-bit",
   "language": "python",
   "name": "python3"
  },
  "language_info": {
   "codemirror_mode": {
    "name": "ipython",
    "version": 3
   },
   "file_extension": ".py",
   "mimetype": "text/x-python",
   "name": "python",
   "nbconvert_exporter": "python",
   "pygments_lexer": "ipython3",
   "version": "3.10.2"
  },
  "orig_nbformat": 4
 },
 "nbformat": 4,
 "nbformat_minor": 2
}
