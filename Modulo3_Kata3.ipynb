{
 "cells": [
  {
   "cell_type": "markdown",
   "metadata": {},
   "source": [
    "Ejercicio - Escribir declaraciones if, else, y elif, kata 3"
   ]
  },
  {
   "cell_type": "code",
   "execution_count": 17,
   "metadata": {},
   "outputs": [
    {
     "name": "stdout",
     "output_type": "stream",
     "text": [
      "Ingresa el tamaño del asteroide\n",
      "Ingresa la valocidad en la que va el asteroide\n",
      "Todo en orden\n"
     ]
    }
   ],
   "source": [
    "print(\"Ingresa el tamaño del asteroide\")\n",
    "tamanioAsteroirde= int(input())\n",
    "print(\"Ingresa la valocidad en la que va el asteroide\")\n",
    "velocidadAsteroide=int(input())\n",
    "if tamanioAsteroirde > 25 and tamanioAsteroirde < 1000 or velocidadAsteroide>25:\n",
    "    if velocidadAsteroide >25:\n",
    "     print(\"¡ALERTA!, Un asteroide se acerca a velocidades peligrosas!!\")\n",
    "    else:\n",
    "        print(\"¡ALERTA!, Un asteroide se acerca\")\n",
    "    \n",
    "elif velocidadAsteroide>=20:\n",
    "    print(\"Look up! ¡Hay una luz mágica en el cielo!\")\n",
    "else :\n",
    "    print(\"Todo en orden\")\n"
   ]
  }
 ],
 "metadata": {
  "interpreter": {
   "hash": "22626d351ea06a19e9d47a22d2b9e6ae41889ab57a49385ad0921d17b4cbec0e"
  },
  "kernelspec": {
   "display_name": "Python 3.10.2 64-bit",
   "language": "python",
   "name": "python3"
  },
  "language_info": {
   "codemirror_mode": {
    "name": "ipython",
    "version": 3
   },
   "file_extension": ".py",
   "mimetype": "text/x-python",
   "name": "python",
   "nbconvert_exporter": "python",
   "pygments_lexer": "ipython3",
   "version": "3.10.2"
  },
  "orig_nbformat": 4
 },
 "nbformat": 4,
 "nbformat_minor": 2
}
