{
 "cells": [
  {
   "cell_type": "markdown",
   "metadata": {},
   "source": [
    "Ejercicio1 - Utilizar operadores aritméticos, Crear un programa para calcular la distancia entre planetas"
   ]
  },
  {
   "cell_type": "code",
   "execution_count": 7,
   "metadata": {},
   "outputs": [
    {
     "name": "stdout",
     "output_type": "stream",
     "text": [
      "628949330\n",
      "390577534\n"
     ]
    }
   ],
   "source": [
    "tierra =149597870\n",
    "júpiter=778547200\n",
    "\n",
    "distanciaEntrePlanetaskm= tierra-júpiter\n",
    "distanciaEntrePlanetasmillas =distanciaEntrePlanetaskm*0.621\n",
    "print(round(abs(distanciaEntrePlanetaskm)))\n",
    "print(round(abs(distanciaEntrePlanetasmillas)))\n"
   ]
  },
  {
   "cell_type": "markdown",
   "metadata": {},
   "source": [
    "Ejercicio 2, convierte cadenas en números y usa valores absolutos"
   ]
  },
  {
   "cell_type": "code",
   "execution_count": 8,
   "metadata": {},
   "outputs": [
    {
     "name": "stdout",
     "output_type": "stream",
     "text": [
      "Escribe la distancia al sol del primer planeta\n",
      "Escribe la distancia al sol del segundo planeta\n",
      "390577533.93\n"
     ]
    }
   ],
   "source": [
    "print(\"Escribe la distancia al sol del primer planeta\")\n",
    "primerPlaneta =input()#la entrada es tipo string\n",
    "print(\"Escribe la distancia al sol del segundo planeta\")\n",
    "segundoPlaneta =input()\n",
    "\n",
    "#convierto el string en tipo numerico para poder hacer la opracopn --> int\n",
    "primerPlaneta= int(primerPlaneta)\n",
    "segundoPlaneta=int(segundoPlaneta)\n",
    "\n",
    "distanciaEntrePlanetasmillas =(tierra-júpiter)*0.621\n",
    "\n",
    "print(abs(distanciaEntrePlanetasmillas))\n",
    "\n",
    "\n"
   ]
  }
 ],
 "metadata": {
  "interpreter": {
   "hash": "22626d351ea06a19e9d47a22d2b9e6ae41889ab57a49385ad0921d17b4cbec0e"
  },
  "kernelspec": {
   "display_name": "Python 3.10.2 64-bit",
   "language": "python",
   "name": "python3"
  },
  "language_info": {
   "codemirror_mode": {
    "name": "ipython",
    "version": 3
   },
   "file_extension": ".py",
   "mimetype": "text/x-python",
   "name": "python",
   "nbconvert_exporter": "python",
   "pygments_lexer": "ipython3",
   "version": "3.10.2"
  },
  "orig_nbformat": 4
 },
 "nbformat": 4,
 "nbformat_minor": 2
}
