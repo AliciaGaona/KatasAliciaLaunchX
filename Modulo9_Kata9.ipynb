{
 "cells": [
  {
   "cell_type": "markdown",
   "metadata": {},
   "source": [
    "Ejercicio: Uso de funciones en Python"
   ]
  },
  {
   "cell_type": "code",
   "execution_count": 13,
   "metadata": {},
   "outputs": [
    {
     "name": "stdout",
     "output_type": "stream",
     "text": [
      "Informe: \n",
      "    tanque1: 23\n",
      "    tanque2: 22\n",
      "    tanque3: 22 \n",
      "    Promedio: 22.333333333333332\n",
      "    \n"
     ]
    }
   ],
   "source": [
    "# Función para leer 3 tanques de combustible y muestre el promedio\n",
    "def informes(tanque1, tanque2, tanque3):\n",
    "    promedio= (tanque1+tanque2+tanque3)/3\n",
    "    return f\"\"\"Informe: \n",
    "    tanque1: {tanque1}\n",
    "    tanque2: {tanque2}\n",
    "    tanque3: {tanque3} \n",
    "    Promedio: {promedio}\n",
    "    \"\"\"\n",
    "\n",
    "print(informes(23, 22, 22))\n",
    "\n"
   ]
  },
  {
   "cell_type": "markdown",
   "metadata": {},
   "source": [
    "En lugar de simplemente crear el informe, la función también está calculando el promedio. Mejora la legibilidad extrayendo el cálculo promedio de la función en una nueva función para que el promedio se pueda hacer de forma independiente:"
   ]
  },
  {
   "cell_type": "code",
   "execution_count": 14,
   "metadata": {},
   "outputs": [
    {
     "name": "stdout",
     "output_type": "stream",
     "text": [
      "22.333333333333332\n"
     ]
    }
   ],
   "source": [
    "# Función promedio \n",
    "def promedio(tanque1, tanque2, tanque3):\n",
    "    promedio1= (tanque1+tanque2+tanque3)/3\n",
    "    return promedio1\n",
    "\n",
    "print(promedio(23, 22, 22))\n"
   ]
  },
  {
   "cell_type": "markdown",
   "metadata": {},
   "source": [
    "Ahora actualiza la función de informes para llamando a la nueva función del promedio:"
   ]
  },
  {
   "cell_type": "code",
   "execution_count": 23,
   "metadata": {},
   "outputs": [
    {
     "name": "stdout",
     "output_type": "stream",
     "text": [
      "22.333333333333332\n",
      "Informe: \n",
      "    Promedio: 22.333333333333332\n",
      "    tanque1: 23\n",
      "    tanque2: 22\n",
      "    tanque3: 22     \n",
      "    \n"
     ]
    }
   ],
   "source": [
    "def promedio(tanque1, tanque2, tanque3):\n",
    "    promedio1= (tanque1+tanque2+tanque3)/3\n",
    "    return promedio1\n",
    "\n",
    "print(promedio(23, 22, 22))\n",
    "\n",
    "def informesMejorado(tanque1, tanque2, tanque3):    \n",
    "    return f\"\"\"Informe: \n",
    "    Promedio: {promedio(tanque1, tanque2, tanque3)}\n",
    "    tanque1: {tanque1}\n",
    "    tanque2: {tanque2}\n",
    "    tanque3: {tanque3}     \n",
    "    \"\"\"\n",
    "\n",
    "print(informesMejorado(23, 22, 22))"
   ]
  },
  {
   "cell_type": "markdown",
   "metadata": {},
   "source": [
    "Ejercicio 2: Trabajo con argumentos de palabra clave"
   ]
  },
  {
   "cell_type": "code",
   "execution_count": 4,
   "metadata": {},
   "outputs": [
    {
     "name": "stdout",
     "output_type": "stream",
     "text": [
      "\n",
      "    Mision para Tierra\n",
      "    Tiempo de viaje 13 min\n",
      "    Combustible restante 1000000 galones\n",
      "    \n"
     ]
    }
   ],
   "source": [
    "# Función con un informe preciso de la misión. Considera hora de prelanzamiento, tiempo de vuelo, destino, tanque externo y tanque interno\n",
    "def informeMision(horaPreLanzamiento, horaVuelo, destino, tanqueExterno, tanquePrincipal):\n",
    "    return f\"\"\"\n",
    "    Mision para {destino}\n",
    "    Tiempo de viaje {horaPreLanzamiento + horaVuelo} min\n",
    "    Combustible restante {tanqueExterno + tanquePrincipal} galones\n",
    "    \"\"\"\n",
    "\n",
    "print(informeMision(10, 3, \"Tierra\", 400000, 600000))"
   ]
  },
  {
   "cell_type": "code",
   "execution_count": 6,
   "metadata": {},
   "outputs": [
    {
     "name": "stdout",
     "output_type": "stream",
     "text": [
      "\n",
      "    Mision para Tierra\n",
      "    Tiempo de viaje 118 min\n",
      "    Combustible restante 540000 \n",
      "    \n"
     ]
    }
   ],
   "source": [
    "# Escribe tu nueva función de reporte considerando lo anterior\n",
    "def informeMisionMejorada(destino, *min, **Combustibles):\n",
    "    return f\"\"\"\n",
    "    Mision para {destino}\n",
    "    Tiempo de viaje {sum(min)} \n",
    "    Combustible restante {sum(Combustibles.values())} \n",
    "    \"\"\"\n",
    "\n",
    "\n",
    "print(informeMisionMejorada(\"Tierra\", 11, 53, 54, tanquePrincipal=500000, tanqueExterno=40000))"
   ]
  },
  {
   "cell_type": "code",
   "execution_count": 15,
   "metadata": {},
   "outputs": [
    {
     "name": "stdout",
     "output_type": "stream",
     "text": [
      "\n",
      "    Mision para Tierra\n",
      "    Tiempo de viaje: 81 min\n",
      "    Combustible restante: 500000\n",
      "    tanquePrincipaltanque:300000 galones restantes\n",
      "tanqueExternotanque:200000 galones restantes\n",
      "\n"
     ]
    }
   ],
   "source": [
    "#Nueva funcion con nombre de tanques\n",
    "# Escribe tu nueva función\n",
    "\n",
    "def informeMisionMejoradaNomTanques(destino, *min, **Combustibles):\n",
    "    reportePrincipal = f\"\"\"\n",
    "    Mision para {destino}\n",
    "    Tiempo de viaje: {sum(min)} min\n",
    "    Combustible restante: {sum(Combustibles.values())}\n",
    "    \"\"\"\n",
    "    for nombreTanque, galons in Combustibles.items():\n",
    "        reportePrincipal += f\"{nombreTanque}tanque:{galons} galones restantes\\n\"\n",
    "    return reportePrincipal\n",
    "\n",
    "print(informeMisionMejoradaNomTanques(\"Tierra\", 7, 15, 59, tanquePrincipal=300000, tanqueExterno=200000))\n"
   ]
  }
 ],
 "metadata": {
  "interpreter": {
   "hash": "22626d351ea06a19e9d47a22d2b9e6ae41889ab57a49385ad0921d17b4cbec0e"
  },
  "kernelspec": {
   "display_name": "Python 3.10.2 64-bit",
   "language": "python",
   "name": "python3"
  },
  "language_info": {
   "codemirror_mode": {
    "name": "ipython",
    "version": 3
   },
   "file_extension": ".py",
   "mimetype": "text/x-python",
   "name": "python",
   "nbconvert_exporter": "python",
   "pygments_lexer": "ipython3",
   "version": "3.10.2"
  },
  "orig_nbformat": 4
 },
 "nbformat": 4,
 "nbformat_minor": 2
}
