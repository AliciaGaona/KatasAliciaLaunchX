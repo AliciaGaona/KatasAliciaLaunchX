{
 "cells": [
  {
   "cell_type": "markdown",
   "metadata": {},
   "source": [
    "Ejercicio1: Crear y usar listas de Python"
   ]
  },
  {
   "cell_type": "code",
   "execution_count": 9,
   "metadata": {},
   "outputs": [
    {
     "name": "stdout",
     "output_type": "stream",
     "text": [
      "['Mercurio', 'Venus', 'Tierra', 'Marte', 'Júpiter', 'Saturno', 'Urano', 'Neptuno']\n",
      "El ultimo planeta de la tierra es Plutón y existen 9 planetas\n"
     ]
    }
   ],
   "source": [
    "planets=[\"Mercurio\", \"Venus\",\"Tierra\", \"Marte\", \"Júpiter\", \"Saturno\",\"Urano\", \"Neptuno\"]\n",
    "print(planets)\n",
    "planets.append(\"Plutón\")\n",
    "numerosPlanetas= len(planets)\n",
    "print(\"El ultimo planeta de la tierra es \" + planets[-1] + \" y existen \" + str(numerosPlanetas) +\" planetas\")"
   ]
  },
  {
   "cell_type": "markdown",
   "metadata": {},
   "source": [
    "Ejercicio 2: Trabajando con datos de una lista, usar slices para recuperar partes de una lista"
   ]
  },
  {
   "cell_type": "code",
   "execution_count": 19,
   "metadata": {},
   "outputs": [
    {
     "name": "stdout",
     "output_type": "stream",
     "text": [
      "Ingresa el nombre de un planeata, favor de usar una letra mayúscula para comenzar el nombre del planeta.\n",
      "Los planetas más cercanos al sol que el planetaEarth\n",
      "['Mercury', 'Venus']\n",
      "Los planetas más alejados del sol que el planetaEarth\n",
      "['Mars', 'Jupiter', 'Saturn', 'Neptune']\n"
     ]
    }
   ],
   "source": [
    "# Lista de planetas\n",
    "planets = ['Mercury', 'Venus', 'Earth', 'Mars', 'Jupiter', 'Saturn', 'Neptune']\n",
    "\n",
    "print(\"Ingresa el nombre de un planeata, favor de usar una letra mayúscula para comenzar el nombre del planeta.\")\n",
    "nombrePlaneta = input()\n",
    "buscarPlaneta= planets.index(nombrePlaneta)\n",
    "\n",
    "print(\"Los planetas más cercanos al sol que el planeta\" + nombrePlaneta)\n",
    "print(planets[0:buscarPlaneta])\n",
    "print(\"Los planetas más alejados del sol que el planeta\" + nombrePlaneta)\n",
    "print(planets[buscarPlaneta +1:])\n"
   ]
  }
 ],
 "metadata": {
  "interpreter": {
   "hash": "22626d351ea06a19e9d47a22d2b9e6ae41889ab57a49385ad0921d17b4cbec0e"
  },
  "kernelspec": {
   "display_name": "Python 3.10.2 64-bit",
   "language": "python",
   "name": "python3"
  },
  "language_info": {
   "codemirror_mode": {
    "name": "ipython",
    "version": 3
   },
   "file_extension": ".py",
   "mimetype": "text/x-python",
   "name": "python",
   "nbconvert_exporter": "python",
   "pygments_lexer": "ipython3",
   "version": "3.10.2"
  },
  "orig_nbformat": 4
 },
 "nbformat": 4,
 "nbformat_minor": 2
}
