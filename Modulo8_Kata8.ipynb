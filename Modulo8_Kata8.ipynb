{
 "cells": [
  {
   "cell_type": "markdown",
   "metadata": {},
   "source": [
    "Ejercicio 1: Creación de diccionarios de Python"
   ]
  },
  {
   "cell_type": "code",
   "execution_count": 9,
   "metadata": {},
   "outputs": [
    {
     "name": "stdout",
     "output_type": "stream",
     "text": [
      "Nombre del planeta Mars\n",
      "Y tiene 2 lunas\n",
      "El nombre del planeta es Mars y su circunferencia polar es 6752\n"
     ]
    }
   ],
   "source": [
    "planet={\n",
    "        'name': 'Mars',\n",
    "        'moons': 2\n",
    "}\n",
    "\n",
    "print(\"Nombre del planeta \" + planet.get('name'))\n",
    "print(\"Y tiene \" + str(planet.get('moons')) + \" lunas\")\n",
    "\n",
    "## Agrega la clave circunferencia con los datos proporcionados previamente\n",
    "planet['circunferencia (km'] = {\n",
    "    'polar': 6752,\n",
    "    'equatorial': 6792\n",
    "}\n",
    "# Imprime el nombre del planeta con su circunferencia polar.\n",
    "print(\"El nombre del planeta es \" + planet.get('name') + \" y su circunferencia polar es \" + str(planet['circunferencia (km'][\"polar\"]))\n"
   ]
  },
  {
   "cell_type": "markdown",
   "metadata": {},
   "source": [
    "Ejercicio 2: Programación dinámica con diccionarios"
   ]
  },
  {
   "cell_type": "code",
   "execution_count": 28,
   "metadata": {},
   "outputs": [
    {
     "name": "stdout",
     "output_type": "stream",
     "text": [
      "El número total de lunas en el sistema solar es 12 y el número promedio de lunas que tiene un planeta es 17.833333333333332\n"
     ]
    }
   ],
   "source": [
    "# Planets and moons\n",
    "planet_moons = {\n",
    "    'mercury': 0,\n",
    "    'venus': 0,\n",
    "    'earth': 1,\n",
    "    'mars': 2,\n",
    "    'jupiter': 79,\n",
    "    'saturn': 82,\n",
    "    'uranus': 27,\n",
    "    'neptune': 14,\n",
    "    'pluto': 5,\n",
    "    'haumea': 2,\n",
    "    'makemake': 1,\n",
    "    'eris': 1\n",
    "}\n",
    "\n",
    "# Añade el código para determinar el número de lunas.\n",
    "moons=planet_moons.values()\n",
    "planets=len(moons)\n",
    "#print(planets)\n",
    "\n",
    "# Calcula el total_moons agregando todas las lunas\n",
    "# Almacena su valor en una variable llamada total_moons\n",
    "total_moons=0\n",
    "\n",
    "for moonItera in moons:\n",
    "    total_moons = total_moons + moonItera\n",
    "\n",
    "promedio= total_moons/planets\n",
    "\n",
    "print(\"El número total de lunas en el sistema solar es \" + str(planets) +\" y el número promedio de lunas que tiene un planeta es \" + str(promedio))\n"
   ]
  }
 ],
 "metadata": {
  "interpreter": {
   "hash": "22626d351ea06a19e9d47a22d2b9e6ae41889ab57a49385ad0921d17b4cbec0e"
  },
  "kernelspec": {
   "display_name": "Python 3.10.2 64-bit",
   "language": "python",
   "name": "python3"
  },
  "language_info": {
   "codemirror_mode": {
    "name": "ipython",
    "version": 3
   },
   "file_extension": ".py",
   "mimetype": "text/x-python",
   "name": "python",
   "nbconvert_exporter": "python",
   "pygments_lexer": "ipython3",
   "version": "3.10.2"
  },
  "orig_nbformat": 4
 },
 "nbformat": 4,
 "nbformat_minor": 2
}
